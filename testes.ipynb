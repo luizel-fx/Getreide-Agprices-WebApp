{
 "cells": [
  {
   "cell_type": "code",
   "execution_count": 6,
   "id": "38b274a1",
   "metadata": {},
   "outputs": [
    {
     "data": {
      "text/plain": [
       "datetime.timezone(datetime.timedelta(days=-1, seconds=68400))"
      ]
     },
     "execution_count": 6,
     "metadata": {},
     "output_type": "execute_result"
    }
   ],
   "source": [
    "from datetime import datetime, timezone, timedelta\n",
    "\n",
    "# Create a datetime object with timezone information (aware datetime)\n",
    "dt_aware = datetime(2025, 10, 5, 10, 30, 0, tzinfo=timezone(timedelta(hours=-5)))\n",
    "\n",
    "# Access the tzinfo attribute\n",
    "timezone_info = dt_aware.tzinfo\n",
    "timezone_info"
   ]
  },
  {
   "cell_type": "code",
   "execution_count": 29,
   "id": "0ed7d6f6",
   "metadata": {},
   "outputs": [
    {
     "data": {
      "text/plain": [
       "time      datetime64[ns, Asia/Bangkok]\n",
       "open                           float64\n",
       "high                           float64\n",
       "low                            float64\n",
       "close                          float64\n",
       "volume                         float64\n",
       "dtype: object"
      ]
     },
     "execution_count": 29,
     "metadata": {},
     "output_type": "execute_result"
    }
   ],
   "source": [
    "from price_loaders.tradingview import load_asset_price\n",
    "import pandas as pd\n",
    "\n",
    "df = load_asset_price(\"CCM1!\", 10000, 'D')\n",
    "df.dtypes\n",
    "#timezone(df['time'].iloc[0])"
   ]
  },
  {
   "cell_type": "code",
   "execution_count": 39,
   "id": "a9fcf8b1",
   "metadata": {},
   "outputs": [
    {
     "data": {
      "text/plain": [
       "0      2009-10-15\n",
       "1      2009-10-16\n",
       "2      2009-10-17\n",
       "3      2009-10-20\n",
       "4      2009-10-21\n",
       "          ...    \n",
       "3951   2025-09-30\n",
       "3952   2025-10-01\n",
       "3953   2025-10-02\n",
       "3954   2025-10-03\n",
       "3955   2025-10-04\n",
       "Name: time, Length: 3956, dtype: datetime64[ns]"
      ]
     },
     "execution_count": 39,
     "metadata": {},
     "output_type": "execute_result"
    }
   ],
   "source": [
    "df['time'] = df['time'].apply(lambda x: datetime(x.year, x.month, x.day))\n",
    "df['time']"
   ]
  },
  {
   "cell_type": "code",
   "execution_count": 31,
   "id": "92a1d96c",
   "metadata": {},
   "outputs": [
    {
     "data": {
      "text/html": [
       "<div>\n",
       "<style scoped>\n",
       "    .dataframe tbody tr th:only-of-type {\n",
       "        vertical-align: middle;\n",
       "    }\n",
       "\n",
       "    .dataframe tbody tr th {\n",
       "        vertical-align: top;\n",
       "    }\n",
       "\n",
       "    .dataframe thead th {\n",
       "        text-align: right;\n",
       "    }\n",
       "</style>\n",
       "<table border=\"1\" class=\"dataframe\">\n",
       "  <thead>\n",
       "    <tr style=\"text-align: right;\">\n",
       "      <th></th>\n",
       "      <th>time</th>\n",
       "      <th>open</th>\n",
       "      <th>high</th>\n",
       "      <th>low</th>\n",
       "      <th>close</th>\n",
       "      <th>volume</th>\n",
       "    </tr>\n",
       "  </thead>\n",
       "  <tbody>\n",
       "    <tr>\n",
       "      <th>0</th>\n",
       "      <td>2009-10-15 03:05:00+07:00</td>\n",
       "      <td>21.60</td>\n",
       "      <td>21.60</td>\n",
       "      <td>21.16</td>\n",
       "      <td>21.20</td>\n",
       "      <td>453.0</td>\n",
       "    </tr>\n",
       "    <tr>\n",
       "      <th>1</th>\n",
       "      <td>2009-10-16 03:05:00+07:00</td>\n",
       "      <td>21.20</td>\n",
       "      <td>21.20</td>\n",
       "      <td>20.85</td>\n",
       "      <td>20.88</td>\n",
       "      <td>187.0</td>\n",
       "    </tr>\n",
       "    <tr>\n",
       "      <th>2</th>\n",
       "      <td>2009-10-17 03:05:00+07:00</td>\n",
       "      <td>20.85</td>\n",
       "      <td>21.20</td>\n",
       "      <td>20.85</td>\n",
       "      <td>21.10</td>\n",
       "      <td>97.0</td>\n",
       "    </tr>\n",
       "    <tr>\n",
       "      <th>3</th>\n",
       "      <td>2009-10-20 02:05:00+07:00</td>\n",
       "      <td>21.14</td>\n",
       "      <td>21.15</td>\n",
       "      <td>21.00</td>\n",
       "      <td>21.10</td>\n",
       "      <td>125.0</td>\n",
       "    </tr>\n",
       "    <tr>\n",
       "      <th>4</th>\n",
       "      <td>2009-10-21 02:05:00+07:00</td>\n",
       "      <td>21.21</td>\n",
       "      <td>21.32</td>\n",
       "      <td>21.10</td>\n",
       "      <td>21.23</td>\n",
       "      <td>129.0</td>\n",
       "    </tr>\n",
       "    <tr>\n",
       "      <th>...</th>\n",
       "      <td>...</td>\n",
       "      <td>...</td>\n",
       "      <td>...</td>\n",
       "      <td>...</td>\n",
       "      <td>...</td>\n",
       "      <td>...</td>\n",
       "    </tr>\n",
       "    <tr>\n",
       "      <th>3951</th>\n",
       "      <td>2025-09-30 03:05:00+07:00</td>\n",
       "      <td>66.11</td>\n",
       "      <td>66.18</td>\n",
       "      <td>65.20</td>\n",
       "      <td>65.28</td>\n",
       "      <td>9274.0</td>\n",
       "    </tr>\n",
       "    <tr>\n",
       "      <th>3952</th>\n",
       "      <td>2025-10-01 03:05:00+07:00</td>\n",
       "      <td>65.35</td>\n",
       "      <td>65.60</td>\n",
       "      <td>65.12</td>\n",
       "      <td>65.51</td>\n",
       "      <td>5700.0</td>\n",
       "    </tr>\n",
       "    <tr>\n",
       "      <th>3953</th>\n",
       "      <td>2025-10-02 03:05:00+07:00</td>\n",
       "      <td>65.64</td>\n",
       "      <td>65.78</td>\n",
       "      <td>65.36</td>\n",
       "      <td>65.71</td>\n",
       "      <td>3497.0</td>\n",
       "    </tr>\n",
       "    <tr>\n",
       "      <th>3954</th>\n",
       "      <td>2025-10-03 03:05:00+07:00</td>\n",
       "      <td>65.75</td>\n",
       "      <td>66.05</td>\n",
       "      <td>65.71</td>\n",
       "      <td>65.98</td>\n",
       "      <td>4139.0</td>\n",
       "    </tr>\n",
       "    <tr>\n",
       "      <th>3955</th>\n",
       "      <td>2025-10-04 03:05:00+07:00</td>\n",
       "      <td>66.00</td>\n",
       "      <td>66.00</td>\n",
       "      <td>65.90</td>\n",
       "      <td>65.94</td>\n",
       "      <td>83.0</td>\n",
       "    </tr>\n",
       "  </tbody>\n",
       "</table>\n",
       "<p>3956 rows × 6 columns</p>\n",
       "</div>"
      ],
      "text/plain": [
       "                          time   open   high    low  close  volume\n",
       "0    2009-10-15 03:05:00+07:00  21.60  21.60  21.16  21.20   453.0\n",
       "1    2009-10-16 03:05:00+07:00  21.20  21.20  20.85  20.88   187.0\n",
       "2    2009-10-17 03:05:00+07:00  20.85  21.20  20.85  21.10    97.0\n",
       "3    2009-10-20 02:05:00+07:00  21.14  21.15  21.00  21.10   125.0\n",
       "4    2009-10-21 02:05:00+07:00  21.21  21.32  21.10  21.23   129.0\n",
       "...                        ...    ...    ...    ...    ...     ...\n",
       "3951 2025-09-30 03:05:00+07:00  66.11  66.18  65.20  65.28  9274.0\n",
       "3952 2025-10-01 03:05:00+07:00  65.35  65.60  65.12  65.51  5700.0\n",
       "3953 2025-10-02 03:05:00+07:00  65.64  65.78  65.36  65.71  3497.0\n",
       "3954 2025-10-03 03:05:00+07:00  65.75  66.05  65.71  65.98  4139.0\n",
       "3955 2025-10-04 03:05:00+07:00  66.00  66.00  65.90  65.94    83.0\n",
       "\n",
       "[3956 rows x 6 columns]"
      ]
     },
     "execution_count": 31,
     "metadata": {},
     "output_type": "execute_result"
    }
   ],
   "source": [
    "df['time'] = pd.to_datetime(df['time'])\n",
    "df"
   ]
  },
  {
   "cell_type": "code",
   "execution_count": null,
   "id": "49a4367c",
   "metadata": {},
   "outputs": [],
   "source": []
  }
 ],
 "metadata": {
  "kernelspec": {
   "display_name": "Python 3",
   "language": "python",
   "name": "python3"
  },
  "language_info": {
   "codemirror_mode": {
    "name": "ipython",
    "version": 3
   },
   "file_extension": ".py",
   "mimetype": "text/x-python",
   "name": "python",
   "nbconvert_exporter": "python",
   "pygments_lexer": "ipython3",
   "version": "3.13.4"
  }
 },
 "nbformat": 4,
 "nbformat_minor": 5
}
